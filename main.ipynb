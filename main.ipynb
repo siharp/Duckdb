{
 "cells": [
  {
   "cell_type": "code",
   "execution_count": 6,
   "metadata": {},
   "outputs": [],
   "source": [
    "# import libraries need\n",
    "import duckdb\n",
    "import pandas as pd"
   ]
  },
  {
   "cell_type": "code",
   "execution_count": 4,
   "metadata": {},
   "outputs": [
    {
     "name": "stdout",
     "output_type": "stream",
     "text": [
      "┌──────────────────────┬──────────┬────────────┬───┬─────────┬─────────────────┬────────────┬──────────────────────┐\n",
      "│   FLIGHTS HISTORY    │ column01 │    DATE    │ … │   STA   │     STATUS      │ airline_id │ aircraft_registrat…  │\n",
      "│       varchar        │ varchar  │    date    │   │ varchar │     varchar     │  varchar   │       varchar        │\n",
      "├──────────────────────┼──────────┼────────────┼───┼─────────┼─────────────────┼────────────┼──────────────────────┤\n",
      "│ ID5002  22 Jul 202…  │ NULL     │ 2024-07-22 │ … │ 15:29   │ Landed 15:29    │ ID         │ PK-BDF               │\n",
      "│ ID6181  01 Aug 202…  │ NULL     │ 2024-08-02 │ … │ 11:50   │ Estimated 11:35 │ ID         │ PK-BGF               │\n",
      "│ ID6180  01 Aug 202…  │ NULL     │ 2024-08-02 │ … │ 07:25   │ Landed 07:25    │ ID         │ PK-BGF               │\n",
      "│ ID7630  01 Aug 202…  │ NULL     │ 2024-08-01 │ … │ 21:55   │ Landed 21:25    │ ID         │ PK-BGF               │\n",
      "│ ID7637  01 Aug 202…  │ NULL     │ 2024-08-01 │ … │ 17:45   │ Landed 17:32    │ ID         │ PK-BGF               │\n",
      "├──────────────────────┴──────────┴────────────┴───┴─────────┴─────────────────┴────────────┴──────────────────────┤\n",
      "│ 5 rows                                                                                      13 columns (7 shown) │\n",
      "└──────────────────────────────────────────────────────────────────────────────────────────────────────────────────┘\n",
      "\n"
     ]
    }
   ],
   "source": [
    "# read data from csv\n",
    "print(duckdb.sql('select * from \"flight-history.csv\" limit 5;'))"
   ]
  },
  {
   "cell_type": "code",
   "execution_count": 7,
   "metadata": {},
   "outputs": [
    {
     "name": "stdout",
     "output_type": "stream",
     "text": [
      "┌──────────────────────┬────────────┬────────────┬───┬─────────┬─────────────────┬────────────┬──────────────────────┐\n",
      "│   FLIGHTS HISTORY    │ Unnamed: 1 │    DATE    │ … │   STA   │     STATUS      │ airline_id │ aircraft_registrat…  │\n",
      "│       varchar        │   double   │  varchar   │   │ varchar │     varchar     │  varchar   │       varchar        │\n",
      "├──────────────────────┼────────────┼────────────┼───┼─────────┼─────────────────┼────────────┼──────────────────────┤\n",
      "│ ID5002  22 Jul 202…  │       NULL │ 2024-07-22 │ … │ 15:29   │ Landed 15:29    │ ID         │ PK-BDF               │\n",
      "│ ID6181  01 Aug 202…  │       NULL │ 2024-08-02 │ … │ 11:50   │ Estimated 11:35 │ ID         │ PK-BGF               │\n",
      "│ ID6180  01 Aug 202…  │       NULL │ 2024-08-02 │ … │ 07:25   │ Landed 07:25    │ ID         │ PK-BGF               │\n",
      "│ ID7630  01 Aug 202…  │       NULL │ 2024-08-01 │ … │ 21:55   │ Landed 21:25    │ ID         │ PK-BGF               │\n",
      "│ ID7637  01 Aug 202…  │       NULL │ 2024-08-01 │ … │ 17:45   │ Landed 17:32    │ ID         │ PK-BGF               │\n",
      "├──────────────────────┴────────────┴────────────┴───┴─────────┴─────────────────┴────────────┴──────────────────────┤\n",
      "│ 5 rows                                                                                        13 columns (7 shown) │\n",
      "└────────────────────────────────────────────────────────────────────────────────────────────────────────────────────┘\n",
      "\n"
     ]
    }
   ],
   "source": [
    "# combain pandas with duckdb\n",
    "df = pd.read_csv('flight-history.csv')\n",
    "\n",
    "print(duckdb.sql('select * from df limit 5;'))"
   ]
  },
  {
   "cell_type": "code",
   "execution_count": 9,
   "metadata": {},
   "outputs": [],
   "source": [
    "# save file to csv\n",
    "result= duckdb.sql('select * from df limit 5;')\n",
    "result.to_csv('result.csv')"
   ]
  },
  {
   "cell_type": "code",
   "execution_count": 10,
   "metadata": {},
   "outputs": [],
   "source": [
    "# save file to parquet\n",
    "result= duckdb.sql('select * from df limit 5;')\n",
    "result.to_csv('result.parquet')"
   ]
  }
 ],
 "metadata": {
  "kernelspec": {
   "display_name": "Python 3",
   "language": "python",
   "name": "python3"
  },
  "language_info": {
   "codemirror_mode": {
    "name": "ipython",
    "version": 3
   },
   "file_extension": ".py",
   "mimetype": "text/x-python",
   "name": "python",
   "nbconvert_exporter": "python",
   "pygments_lexer": "ipython3",
   "version": "3.10.12"
  }
 },
 "nbformat": 4,
 "nbformat_minor": 2
}
